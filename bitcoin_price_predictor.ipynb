{
  "nbformat": 4,
  "nbformat_minor": 0,
  "metadata": {
    "colab": {
      "name": "bitcoin-price-predictor.ipynb",
      "provenance": [],
      "collapsed_sections": []
    },
    "kernelspec": {
      "name": "python3",
      "display_name": "Python 3"
    },
    "accelerator": "GPU"
  },
  "cells": [
    {
      "cell_type": "code",
      "metadata": {
        "id": "Tqb7OhJbX4jF",
        "colab_type": "code",
        "colab": {}
      },
      "source": [
        "import numpy as np\n",
        "import pandas as pd\n",
        "from matplotlib import pyplot as plt\n",
        "from sklearn.preprocessing import MinMaxScaler\n",
        "from keras.models import Sequential\n",
        "from keras.layers import Bidirectional, Dropout, Activation, Dense, LSTM"
      ],
      "execution_count": 0,
      "outputs": []
    },
    {
      "cell_type": "code",
      "metadata": {
        "id": "qpXd-l4HoSeR",
        "colab_type": "code",
        "colab": {}
      },
      "source": [
        "CSV_PATH = \"https://raw.githubusercontent.com/amingst/crypto-price-predictor/switch-to-colab-notebook/BTC-USD.csv\"\n",
        "FORECAST = 100\n",
        "DROPOUT = 0.2\n",
        "WINDOW_SIZE = FORECAST - 1\n",
        "EPOCHS = 5\n",
        "BATCH_SIZE = 64 "
      ],
      "execution_count": 0,
      "outputs": []
    },
    {
      "cell_type": "code",
      "metadata": {
        "id": "tbIvxpl3bOMs",
        "colab_type": "code",
        "colab": {}
      },
      "source": [
        "df = pd.read_csv(CSV_PATH, parse_dates=['Date'])\n",
        "df = df.sort_values('Date')"
      ],
      "execution_count": 0,
      "outputs": []
    },
    {
      "cell_type": "code",
      "metadata": {
        "id": "ToA65MGscgxI",
        "colab_type": "code",
        "colab": {}
      },
      "source": [
        "def reshape(data_raw):\n",
        "    min_max_scaler = MinMaxScaler()\n",
        "\n",
        "    closing = data_raw.Close.values.reshape(-1, 1)\n",
        "    closing_scaled = min_max_scaler.fit_transform(closing)\n",
        "    closing_scaled = closing_scaled[~np.isnan(closing_scaled)]\n",
        "    closing_scaled = closing_scaled.reshape(-1, 1)\n",
        "\n",
        "    return closing_scaled"
      ],
      "execution_count": 0,
      "outputs": []
    },
    {
      "cell_type": "code",
      "metadata": {
        "id": "k5wYNapafLi-",
        "colab_type": "code",
        "colab": {}
      },
      "source": [
        "def to_time_series(data_raw, forecast_out):\n",
        "  out = []\n",
        "  \n",
        "  for i in range(len(data_raw) - forecast_out):\n",
        "    out.append(data_raw[i: i + forecast_out])\n",
        "  \n",
        "  return np.array(out)"
      ],
      "execution_count": 0,
      "outputs": []
    },
    {
      "cell_type": "code",
      "metadata": {
        "id": "8eduaJ3kkU2C",
        "colab_type": "code",
        "colab": {}
      },
      "source": [
        "def build_datasets(ts, forecast_out, split):\n",
        "  train_size = int(split * ts.shape[0])\n",
        "\n",
        "  x_train = ts[:train_size, :-1, :]\n",
        "  y_train = ts[:train_size, -1, :]\n",
        "\n",
        "  x_test = ts[:train_size, :-1, :]\n",
        "  y_test = ts[:train_size, -1, :]\n",
        "\n",
        "  return x_train, x_test, y_train, y_test\n",
        "\n",
        "x_train, x_test, y_train, y_test = build_datasets(time_series, FORECAST, 0.95)"
      ],
      "execution_count": 0,
      "outputs": []
    },
    {
      "cell_type": "code",
      "metadata": {
        "id": "Lnuvros_nnCs",
        "colab_type": "code",
        "colab": {}
      },
      "source": [
        "def build_model(w_size, dropout):\n",
        "  model = Sequential()\n",
        "\n",
        "  model.add(Bidirectional(LSTM(w_size, return_sequences=True), input_shape=(WINDOW_SIZE, x_train.shape[-1])))\n",
        "  model.add(Dropout(rate=dropout))\n",
        "\n",
        "  model.add(Bidirectional(LSTM((w_size * 2), return_sequences=True)))\n",
        "  model.add(Dropout(rate=dropout))\n",
        "\n",
        "  model.add(Bidirectional(LSTM(w_size, return_sequences=False)))\n",
        "  model.add(Dense(units=1))\n",
        "  model.add(Activation('linear'))\n",
        "\n",
        "  return model\n",
        "\n",
        "model = build_model(WINDOW_SIZE, DROPOUT)"
      ],
      "execution_count": 0,
      "outputs": []
    },
    {
      "cell_type": "code",
      "metadata": {
        "id": "PIvFzUZ6rTUT",
        "colab_type": "code",
        "colab": {
          "base_uri": "https://localhost:8080/",
          "height": 557
        },
        "outputId": "171e5265-eef8-4434-9e94-7389163611c7"
      },
      "source": [
        "model.compile(loss='mean_squared_error', optimizer='adam')\n",
        "\n",
        "train_hist = model.fit(x_train, y_train, epochs=EPOCHS, batch_size=BATCH_SIZE, shuffle=False, validation_split=0.1)"
      ],
      "execution_count": 183,
      "outputs": [
        {
          "output_type": "stream",
          "text": [
            "WARNING:tensorflow:From /usr/local/lib/python3.6/dist-packages/tensorflow_core/python/ops/math_grad.py:1424: where (from tensorflow.python.ops.array_ops) is deprecated and will be removed in a future version.\n",
            "Instructions for updating:\n",
            "Use tf.where in 2.0, which has the same broadcast rule as np.where\n",
            "WARNING:tensorflow:From /usr/local/lib/python3.6/dist-packages/keras/backend/tensorflow_backend.py:1033: The name tf.assign_add is deprecated. Please use tf.compat.v1.assign_add instead.\n",
            "\n",
            "WARNING:tensorflow:From /usr/local/lib/python3.6/dist-packages/keras/backend/tensorflow_backend.py:1020: The name tf.assign is deprecated. Please use tf.compat.v1.assign instead.\n",
            "\n",
            "WARNING:tensorflow:From /usr/local/lib/python3.6/dist-packages/keras/backend/tensorflow_backend.py:3005: The name tf.Session is deprecated. Please use tf.compat.v1.Session instead.\n",
            "\n",
            "Train on 1535 samples, validate on 171 samples\n",
            "Epoch 1/5\n",
            "WARNING:tensorflow:From /usr/local/lib/python3.6/dist-packages/keras/backend/tensorflow_backend.py:190: The name tf.get_default_session is deprecated. Please use tf.compat.v1.get_default_session instead.\n",
            "\n",
            "WARNING:tensorflow:From /usr/local/lib/python3.6/dist-packages/keras/backend/tensorflow_backend.py:197: The name tf.ConfigProto is deprecated. Please use tf.compat.v1.ConfigProto instead.\n",
            "\n",
            "WARNING:tensorflow:From /usr/local/lib/python3.6/dist-packages/keras/backend/tensorflow_backend.py:207: The name tf.global_variables is deprecated. Please use tf.compat.v1.global_variables instead.\n",
            "\n",
            "WARNING:tensorflow:From /usr/local/lib/python3.6/dist-packages/keras/backend/tensorflow_backend.py:216: The name tf.is_variable_initialized is deprecated. Please use tf.compat.v1.is_variable_initialized instead.\n",
            "\n",
            "WARNING:tensorflow:From /usr/local/lib/python3.6/dist-packages/keras/backend/tensorflow_backend.py:223: The name tf.variables_initializer is deprecated. Please use tf.compat.v1.variables_initializer instead.\n",
            "\n",
            "1535/1535 [==============================] - 30s 20ms/step - loss: 0.0166 - val_loss: 0.0769\n",
            "Epoch 2/5\n",
            "1535/1535 [==============================] - 22s 14ms/step - loss: 0.0302 - val_loss: 0.0061\n",
            "Epoch 3/5\n",
            "1535/1535 [==============================] - 22s 14ms/step - loss: 0.0103 - val_loss: 0.0134\n",
            "Epoch 4/5\n",
            "1535/1535 [==============================] - 21s 14ms/step - loss: 0.0029 - val_loss: 0.0210\n",
            "Epoch 5/5\n",
            "1535/1535 [==============================] - 22s 14ms/step - loss: 0.0093 - val_loss: 0.0060\n"
          ],
          "name": "stdout"
        }
      ]
    }
  ]
}